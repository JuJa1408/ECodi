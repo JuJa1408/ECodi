{
 "cells": [
  {
   "cell_type": "code",
   "execution_count": null,
   "id": "69898cc7",
   "metadata": {},
   "outputs": [
    {
     "name": "stdout",
     "output_type": "stream",
     "text": [
      "3.5.11\n"
     ]
    }
   ],
   "source": [
    "import rpy2\n",
    "print(rpy2.__version__)"
   ]
  },
  {
   "cell_type": "code",
   "execution_count": null,
   "id": "35741290",
   "metadata": {},
   "outputs": [],
   "source": [
    "%load_ext rpy2.ipython"
   ]
  },
  {
   "cell_type": "code",
   "execution_count": null,
   "id": "cf013767",
   "metadata": {},
   "outputs": [
    {
     "name": "stderr",
     "output_type": "stream",
     "text": [
      "R[write to console]: Loading required package: S4Vectors\n",
      "\n",
      "R[write to console]: Loading required package: stats4\n",
      "\n",
      "R[write to console]: Loading required package: BiocGenerics\n",
      "\n",
      "R[write to console]: \n",
      "Attaching package: 'BiocGenerics'\n",
      "\n",
      "\n",
      "R[write to console]: The following objects are masked from 'package:stats':\n",
      "\n",
      "    IQR, mad, sd, var, xtabs\n",
      "\n",
      "\n",
      "R[write to console]: The following objects are masked from 'package:base':\n",
      "\n",
      "    Filter, Find, Map, Position, Reduce, anyDuplicated, aperm, append,\n",
      "    as.data.frame, basename, cbind, colnames, dirname, do.call,\n",
      "    duplicated, eval, evalq, get, grep, grepl, intersect, is.unsorted,\n",
      "    lapply, mapply, match, mget, order, paste, pmax, pmax.int, pmin,\n",
      "    pmin.int, rank, rbind, rownames, sapply, setdiff, sort, table,\n",
      "    tapply, union, unique, unsplit, which.max, which.min\n",
      "\n",
      "\n",
      "R[write to console]: \n",
      "Attaching package: 'S4Vectors'\n",
      "\n",
      "\n",
      "R[write to console]: The following object is masked from 'package:utils':\n",
      "\n",
      "    findMatches\n",
      "\n",
      "\n",
      "R[write to console]: The following objects are masked from 'package:base':\n",
      "\n",
      "    I, expand.grid, unname\n",
      "\n",
      "\n",
      "R[write to console]: Loading required package: IRanges\n",
      "\n",
      "R[write to console]: Loading required package: GenomicRanges\n",
      "\n",
      "R[write to console]: Loading required package: GenomeInfoDb\n",
      "\n",
      "R[write to console]: Loading required package: SummarizedExperiment\n",
      "\n",
      "R[write to console]: Loading required package: MatrixGenerics\n",
      "\n",
      "R[write to console]: Loading required package: matrixStats\n",
      "\n",
      "R[write to console]: \n",
      "Attaching package: 'MatrixGenerics'\n",
      "\n",
      "\n",
      "R[write to console]: The following objects are masked from 'package:matrixStats':\n",
      "\n",
      "    colAlls, colAnyNAs, colAnys, colAvgsPerRowSet, colCollapse,\n",
      "    colCounts, colCummaxs, colCummins, colCumprods, colCumsums,\n",
      "    colDiffs, colIQRDiffs, colIQRs, colLogSumExps, colMadDiffs,\n",
      "    colMads, colMaxs, colMeans2, colMedians, colMins, colOrderStats,\n",
      "    colProds, colQuantiles, colRanges, colRanks, colSdDiffs, colSds,\n",
      "    colSums2, colTabulates, colVarDiffs, colVars, colWeightedMads,\n",
      "    colWeightedMeans, colWeightedMedians, colWeightedSds,\n",
      "    colWeightedVars, rowAlls, rowAnyNAs, rowAnys, rowAvgsPerColSet,\n",
      "    rowCollapse, rowCounts, rowCummaxs, rowCummins, rowCumprods,\n",
      "    rowCumsums, rowDiffs, rowIQRDiffs, rowIQRs, rowLogSumExps,\n",
      "    rowMadDiffs, rowMads, rowMaxs, rowMeans2, rowMedians, rowMins,\n",
      "    rowOrderStats, rowProds, rowQuantiles, rowRanges, rowRanks,\n",
      "    rowSdDiffs, rowSds, rowSums2, rowTabulates, rowVarDiffs, rowVars,\n",
      "    rowWeightedMads, rowWeightedMeans, rowWeightedMedians,\n",
      "    rowWeightedSds, rowWeightedVars\n",
      "\n",
      "\n",
      "R[write to console]: Loading required package: Biobase\n",
      "\n",
      "R[write to console]: Welcome to Bioconductor\n",
      "\n",
      "    Vignettes contain introductory material; view with\n",
      "    'browseVignettes()'. To cite Bioconductor, see\n",
      "    'citation(\"Biobase\")', and for packages 'citation(\"pkgname\")'.\n",
      "\n",
      "\n",
      "R[write to console]: \n",
      "Attaching package: 'Biobase'\n",
      "\n",
      "\n",
      "R[write to console]: The following object is masked from 'package:MatrixGenerics':\n",
      "\n",
      "    rowMedians\n",
      "\n",
      "\n",
      "R[write to console]: The following objects are masked from 'package:matrixStats':\n",
      "\n",
      "    anyMissing, rowMedians\n",
      "\n",
      "\n"
     ]
    },
    {
     "name": "stdout",
     "output_type": "stream",
     "text": [
      "[1] TRUE\n"
     ]
    }
   ],
   "source": [
    "%%R\n",
    "\n",
    "# Load required libraries\n",
    "library(DESeq2)\n",
    "\n",
    "# Load the count data and column data\n",
    "# Make sure to read your data correctly; use read.csv or read.table as needed\n",
    "counts_DEseq <- read.table(\"../bacteria_counts_clean.txt\", header= TRUE, sep=\",\", row.names=1 ) \n",
    "coldata_DEseq <- read.table(\"../metadata_clean_fixgroups.txt\", header= TRUE, sep=\",\", row.names=1) \n",
    "coldata_DEseq$library_name <- factor(coldata_DEseq$library_name, levels = c(\"Hp\", \"Gast\", \"Atr\", \"EA\", \"Met\"))\n",
    "\n",
    "#want rownames of coldata to match column names of counts\n",
    "all(rownames(coldata_DEseq) == colnames(counts_DEseq))   #the files are located one step above in the directory\n"
   ]
  },
  {
   "cell_type": "code",
   "execution_count": null,
   "id": "bc704067",
   "metadata": {},
   "outputs": [
    {
     "name": "stderr",
     "output_type": "stream",
     "text": [
      "R[write to console]: Error in DESeqDataSetFromMatrix(countData = counts_DEseq, colData = coldata_DEseq,  : \n",
      "  could not find function \"DESeqDataSetFromMatrix\"\n",
      "\n"
     ]
    },
    {
     "name": "stdout",
     "output_type": "stream",
     "text": [
      "\n",
      "Error in DESeqDataSetFromMatrix(countData = counts_DEseq, colData = coldata_DEseq,  : \n",
      "  could not find function \"DESeqDataSetFromMatrix\"\n"
     ]
    },
    {
     "ename": "RInterpreterError",
     "evalue": "Failed to parse and evaluate line '\\ndds <- DESeqDataSetFromMatrix(countData=counts_DEseq, \\n                                      colData=coldata_DEseq, \\n                                      design=~library_name) \\ndds <- DESeq(dds)\\n'.\nR error message: 'Error in DESeqDataSetFromMatrix(countData = counts_DEseq, colData = coldata_DEseq,  : \\n  could not find function \"DESeqDataSetFromMatrix\"'",
     "output_type": "error",
     "traceback": [
      "\u001b[31m---------------------------------------------------------------------------\u001b[39m",
      "\u001b[31mRRuntimeError\u001b[39m                             Traceback (most recent call last)",
      "\u001b[36mFile \u001b[39m\u001b[32m/opt/conda/lib/python3.11/site-packages/rpy2/ipython/rmagic.py:385\u001b[39m, in \u001b[36mRMagics.eval\u001b[39m\u001b[34m(self, code)\u001b[39m\n\u001b[32m    383\u001b[39m \u001b[38;5;28;01mtry\u001b[39;00m:\n\u001b[32m    384\u001b[39m     \u001b[38;5;66;03m# Need the newline in case the last line in code is a comment.\u001b[39;00m\n\u001b[32m--> \u001b[39m\u001b[32m385\u001b[39m     value, visible = \u001b[43mro\u001b[49m\u001b[43m.\u001b[49m\u001b[43mr\u001b[49m\u001b[43m(\u001b[49m\u001b[33;43m\"\u001b[39;49m\u001b[33;43mwithVisible(\u001b[39;49m\u001b[33;43m{\u001b[39;49m\u001b[38;5;132;43;01m%s\u001b[39;49;00m\u001b[38;5;130;43;01m\\n\u001b[39;49;00m\u001b[33;43m})\u001b[39;49m\u001b[33;43m\"\u001b[39;49m\u001b[43m \u001b[49m\u001b[43m%\u001b[49m\u001b[43m \u001b[49m\u001b[43mcode\u001b[49m\u001b[43m)\u001b[49m\n\u001b[32m    386\u001b[39m \u001b[38;5;28;01mexcept\u001b[39;00m (ri.embedded.RRuntimeError, \u001b[38;5;167;01mValueError\u001b[39;00m) \u001b[38;5;28;01mas\u001b[39;00m exception:\n\u001b[32m    387\u001b[39m     \u001b[38;5;66;03m# Otherwise next return seems to have copy of error.\u001b[39;00m\n",
      "\u001b[36mFile \u001b[39m\u001b[32m/opt/conda/lib/python3.11/site-packages/rpy2/robjects/__init__.py:459\u001b[39m, in \u001b[36mR.__call__\u001b[39m\u001b[34m(self, string)\u001b[39m\n\u001b[32m    458\u001b[39m p = rinterface.parse(string)\n\u001b[32m--> \u001b[39m\u001b[32m459\u001b[39m res = \u001b[38;5;28;43mself\u001b[39;49m\u001b[43m.\u001b[49m\u001b[43meval\u001b[49m\u001b[43m(\u001b[49m\u001b[43mp\u001b[49m\u001b[43m)\u001b[49m\n\u001b[32m    460\u001b[39m \u001b[38;5;28;01mreturn\u001b[39;00m conversion.get_conversion().rpy2py(res)\n",
      "\u001b[36mFile \u001b[39m\u001b[32m/opt/conda/lib/python3.11/site-packages/rpy2/robjects/functions.py:208\u001b[39m, in \u001b[36mSignatureTranslatedFunction.__call__\u001b[39m\u001b[34m(self, *args, **kwargs)\u001b[39m\n\u001b[32m    207\u001b[39m         kwargs[r_k] = v\n\u001b[32m--> \u001b[39m\u001b[32m208\u001b[39m \u001b[38;5;28;01mreturn\u001b[39;00m (\u001b[38;5;28;43msuper\u001b[39;49m\u001b[43m(\u001b[49m\u001b[43mSignatureTranslatedFunction\u001b[49m\u001b[43m,\u001b[49m\u001b[43m \u001b[49m\u001b[38;5;28;43mself\u001b[39;49m\u001b[43m)\u001b[49m\n\u001b[32m    209\u001b[39m \u001b[43m        \u001b[49m\u001b[43m.\u001b[49m\u001b[34;43m__call__\u001b[39;49m\u001b[43m(\u001b[49m\u001b[43m*\u001b[49m\u001b[43margs\u001b[49m\u001b[43m,\u001b[49m\u001b[43m \u001b[49m\u001b[43m*\u001b[49m\u001b[43m*\u001b[49m\u001b[43mkwargs\u001b[49m\u001b[43m)\u001b[49m)\n",
      "\u001b[36mFile \u001b[39m\u001b[32m/opt/conda/lib/python3.11/site-packages/rpy2/robjects/functions.py:131\u001b[39m, in \u001b[36mFunction.__call__\u001b[39m\u001b[34m(self, *args, **kwargs)\u001b[39m\n\u001b[32m    130\u001b[39m         new_kwargs[k] = cv.py2rpy(v)\n\u001b[32m--> \u001b[39m\u001b[32m131\u001b[39m res = \u001b[38;5;28;43msuper\u001b[39;49m\u001b[43m(\u001b[49m\u001b[43mFunction\u001b[49m\u001b[43m,\u001b[49m\u001b[43m \u001b[49m\u001b[38;5;28;43mself\u001b[39;49m\u001b[43m)\u001b[49m\u001b[43m.\u001b[49m\u001b[34;43m__call__\u001b[39;49m\u001b[43m(\u001b[49m\u001b[43m*\u001b[49m\u001b[43mnew_args\u001b[49m\u001b[43m,\u001b[49m\u001b[43m \u001b[49m\u001b[43m*\u001b[49m\u001b[43m*\u001b[49m\u001b[43mnew_kwargs\u001b[49m\u001b[43m)\u001b[49m\n\u001b[32m    132\u001b[39m res = cv.rpy2py(res)\n",
      "\u001b[36mFile \u001b[39m\u001b[32m/opt/conda/lib/python3.11/site-packages/rpy2/rinterface_lib/conversion.py:45\u001b[39m, in \u001b[36m_cdata_res_to_rinterface.<locals>._\u001b[39m\u001b[34m(*args, **kwargs)\u001b[39m\n\u001b[32m     44\u001b[39m \u001b[38;5;28;01mdef\u001b[39;00m\u001b[38;5;250m \u001b[39m\u001b[34m_\u001b[39m(*args, **kwargs):\n\u001b[32m---> \u001b[39m\u001b[32m45\u001b[39m     cdata = \u001b[43mfunction\u001b[49m\u001b[43m(\u001b[49m\u001b[43m*\u001b[49m\u001b[43margs\u001b[49m\u001b[43m,\u001b[49m\u001b[43m \u001b[49m\u001b[43m*\u001b[49m\u001b[43m*\u001b[49m\u001b[43mkwargs\u001b[49m\u001b[43m)\u001b[49m\n\u001b[32m     46\u001b[39m     \u001b[38;5;66;03m# TODO: test cdata is of the expected CType\u001b[39;00m\n",
      "\u001b[36mFile \u001b[39m\u001b[32m/opt/conda/lib/python3.11/site-packages/rpy2/rinterface.py:817\u001b[39m, in \u001b[36mSexpClosure.__call__\u001b[39m\u001b[34m(self, *args, **kwargs)\u001b[39m\n\u001b[32m    816\u001b[39m     \u001b[38;5;28;01mif\u001b[39;00m error_occured[\u001b[32m0\u001b[39m]:\n\u001b[32m--> \u001b[39m\u001b[32m817\u001b[39m         \u001b[38;5;28;01mraise\u001b[39;00m embedded.RRuntimeError(_rinterface._geterrmessage())\n\u001b[32m    818\u001b[39m \u001b[38;5;28;01mreturn\u001b[39;00m res\n",
      "\u001b[31mRRuntimeError\u001b[39m: Error in DESeqDataSetFromMatrix(countData = counts_DEseq, colData = coldata_DEseq,  : \n  could not find function \"DESeqDataSetFromMatrix\"\n",
      "\nDuring handling of the above exception, another exception occurred:\n",
      "\u001b[31mRInterpreterError\u001b[39m                         Traceback (most recent call last)",
      "\u001b[36mCell\u001b[39m\u001b[36m \u001b[39m\u001b[32mIn[3]\u001b[39m\u001b[32m, line 1\u001b[39m\n\u001b[32m----> \u001b[39m\u001b[32m1\u001b[39m \u001b[43mget_ipython\u001b[49m\u001b[43m(\u001b[49m\u001b[43m)\u001b[49m\u001b[43m.\u001b[49m\u001b[43mrun_cell_magic\u001b[49m\u001b[43m(\u001b[49m\u001b[33;43m'\u001b[39;49m\u001b[33;43mR\u001b[39;49m\u001b[33;43m'\u001b[39;49m\u001b[43m,\u001b[49m\u001b[43m \u001b[49m\u001b[33;43m'\u001b[39;49m\u001b[33;43m'\u001b[39;49m\u001b[43m,\u001b[49m\u001b[43m \u001b[49m\u001b[33;43m'\u001b[39;49m\u001b[38;5;130;43;01m\\n\u001b[39;49;00m\u001b[33;43mdds <- DESeqDataSetFromMatrix(countData=counts_DEseq, \u001b[39;49m\u001b[38;5;130;43;01m\\n\u001b[39;49;00m\u001b[33;43m                                      colData=coldata_DEseq, \u001b[39;49m\u001b[38;5;130;43;01m\\n\u001b[39;49;00m\u001b[33;43m                                      design=~library_name) \u001b[39;49m\u001b[38;5;130;43;01m\\n\u001b[39;49;00m\u001b[33;43mdds <- DESeq(dds)\u001b[39;49m\u001b[38;5;130;43;01m\\n\u001b[39;49;00m\u001b[33;43m'\u001b[39;49m\u001b[43m)\u001b[49m\n",
      "\u001b[36mFile \u001b[39m\u001b[32m/opt/conda/lib/python3.11/site-packages/IPython/core/interactiveshell.py:2539\u001b[39m, in \u001b[36mInteractiveShell.run_cell_magic\u001b[39m\u001b[34m(self, magic_name, line, cell)\u001b[39m\n\u001b[32m   2537\u001b[39m \u001b[38;5;28;01mwith\u001b[39;00m \u001b[38;5;28mself\u001b[39m.builtin_trap:\n\u001b[32m   2538\u001b[39m     args = (magic_arg_s, cell)\n\u001b[32m-> \u001b[39m\u001b[32m2539\u001b[39m     result = \u001b[43mfn\u001b[49m\u001b[43m(\u001b[49m\u001b[43m*\u001b[49m\u001b[43margs\u001b[49m\u001b[43m,\u001b[49m\u001b[43m \u001b[49m\u001b[43m*\u001b[49m\u001b[43m*\u001b[49m\u001b[43mkwargs\u001b[49m\u001b[43m)\u001b[49m\n\u001b[32m   2541\u001b[39m \u001b[38;5;66;03m# The code below prevents the output from being displayed\u001b[39;00m\n\u001b[32m   2542\u001b[39m \u001b[38;5;66;03m# when using magics with decorator @output_can_be_silenced\u001b[39;00m\n\u001b[32m   2543\u001b[39m \u001b[38;5;66;03m# when the last Python token in the expression is a ';'.\u001b[39;00m\n\u001b[32m   2544\u001b[39m \u001b[38;5;28;01mif\u001b[39;00m \u001b[38;5;28mgetattr\u001b[39m(fn, magic.MAGIC_OUTPUT_CAN_BE_SILENCED, \u001b[38;5;28;01mFalse\u001b[39;00m):\n",
      "\u001b[36mFile \u001b[39m\u001b[32m/opt/conda/lib/python3.11/site-packages/rpy2/ipython/rmagic.py:943\u001b[39m, in \u001b[36mRMagics.R\u001b[39m\u001b[34m(self, line, cell, local_ns)\u001b[39m\n\u001b[32m    941\u001b[39m     \u001b[38;5;28;01mif\u001b[39;00m \u001b[38;5;129;01mnot\u001b[39;00m e.stdout.endswith(e.err):\n\u001b[32m    942\u001b[39m         \u001b[38;5;28mprint\u001b[39m(e.err)\n\u001b[32m--> \u001b[39m\u001b[32m943\u001b[39m     \u001b[38;5;28;01mraise\u001b[39;00m e\n\u001b[32m    944\u001b[39m \u001b[38;5;28;01mfinally\u001b[39;00m:\n\u001b[32m    945\u001b[39m     \u001b[38;5;28;01mif\u001b[39;00m \u001b[38;5;28mself\u001b[39m.device \u001b[38;5;129;01min\u001b[39;00m DEVICES_STATIC:\n",
      "\u001b[36mFile \u001b[39m\u001b[32m/opt/conda/lib/python3.11/site-packages/rpy2/ipython/rmagic.py:923\u001b[39m, in \u001b[36mRMagics.R\u001b[39m\u001b[34m(self, line, cell, local_ns)\u001b[39m\n\u001b[32m    921\u001b[39m         return_output = \u001b[38;5;28;01mFalse\u001b[39;00m\n\u001b[32m    922\u001b[39m \u001b[38;5;28;01melse\u001b[39;00m:\n\u001b[32m--> \u001b[39m\u001b[32m923\u001b[39m     text_result, result, visible = \u001b[38;5;28;43mself\u001b[39;49m\u001b[43m.\u001b[49m\u001b[43meval\u001b[49m\u001b[43m(\u001b[49m\u001b[43mcode\u001b[49m\u001b[43m)\u001b[49m\n\u001b[32m    924\u001b[39m     text_output += text_result\n\u001b[32m    925\u001b[39m     \u001b[38;5;28;01mif\u001b[39;00m visible:\n",
      "\u001b[36mFile \u001b[39m\u001b[32m/opt/conda/lib/python3.11/site-packages/rpy2/ipython/rmagic.py:389\u001b[39m, in \u001b[36mRMagics.eval\u001b[39m\u001b[34m(self, code)\u001b[39m\n\u001b[32m    386\u001b[39m \u001b[38;5;28;01mexcept\u001b[39;00m (ri.embedded.RRuntimeError, \u001b[38;5;167;01mValueError\u001b[39;00m) \u001b[38;5;28;01mas\u001b[39;00m exception:\n\u001b[32m    387\u001b[39m     \u001b[38;5;66;03m# Otherwise next return seems to have copy of error.\u001b[39;00m\n\u001b[32m    388\u001b[39m     warning_or_other_msg = \u001b[38;5;28mself\u001b[39m.flush()\n\u001b[32m--> \u001b[39m\u001b[32m389\u001b[39m     \u001b[38;5;28;01mraise\u001b[39;00m RInterpreterError(code, \u001b[38;5;28mstr\u001b[39m(exception),\n\u001b[32m    390\u001b[39m                             warning_or_other_msg)\n\u001b[32m    391\u001b[39m text_output = \u001b[38;5;28mself\u001b[39m.flush()\n\u001b[32m    392\u001b[39m \u001b[38;5;28;01mreturn\u001b[39;00m text_output, value, visible[\u001b[32m0\u001b[39m]\n",
      "\u001b[31mRInterpreterError\u001b[39m: Failed to parse and evaluate line '\\ndds <- DESeqDataSetFromMatrix(countData=counts_DEseq, \\n                                      colData=coldata_DEseq, \\n                                      design=~library_name) \\ndds <- DESeq(dds)\\n'.\nR error message: 'Error in DESeqDataSetFromMatrix(countData = counts_DEseq, colData = coldata_DEseq,  : \\n  could not find function \"DESeqDataSetFromMatrix\"'"
     ]
    }
   ],
   "source": [
    "%%R\n",
    "\n",
    "dds <- DESeqDataSetFromMatrix(countData=counts_DEseq, \n",
    "                                      colData=coldata_DEseq, \n",
    "                                      design=~library_name) \n",
    "dds <- DESeq(dds)"
   ]
  },
  {
   "cell_type": "code",
   "execution_count": null,
   "id": "4dd489f2-fe4d-46cc-bb16-8712da080d86",
   "metadata": {},
   "outputs": [
    {
     "name": "stderr",
     "output_type": "stream",
     "text": [
      "R[write to console]: Error in results(dds, contrast = c(\"library_name\", \"Hp\", \"Gast\")) : \n",
      "  could not find function \"results\"\n",
      "\n"
     ]
    },
    {
     "name": "stdout",
     "output_type": "stream",
     "text": [
      "\n",
      "Error in results(dds, contrast = c(\"library_name\", \"Hp\", \"Gast\")) : \n",
      "  could not find function \"results\"\n"
     ]
    },
    {
     "ename": "RInterpreterError",
     "evalue": "Failed to parse and evaluate line 'res_Hp_vs_Gast <- results(dds, contrast = c(\"library_name\", \"Hp\", \"Gast\"))\\n#summary(res_Hp_vs_Gast)\\nres_Hp_vs_Gast\\n'.\nR error message: 'Error in results(dds, contrast = c(\"library_name\", \"Hp\", \"Gast\")) : \\n  could not find function \"results\"'",
     "output_type": "error",
     "traceback": [
      "\u001b[31m---------------------------------------------------------------------------\u001b[39m",
      "\u001b[31mRRuntimeError\u001b[39m                             Traceback (most recent call last)",
      "\u001b[36mFile \u001b[39m\u001b[32m/opt/conda/lib/python3.11/site-packages/rpy2/ipython/rmagic.py:385\u001b[39m, in \u001b[36mRMagics.eval\u001b[39m\u001b[34m(self, code)\u001b[39m\n\u001b[32m    383\u001b[39m \u001b[38;5;28;01mtry\u001b[39;00m:\n\u001b[32m    384\u001b[39m     \u001b[38;5;66;03m# Need the newline in case the last line in code is a comment.\u001b[39;00m\n\u001b[32m--> \u001b[39m\u001b[32m385\u001b[39m     value, visible = \u001b[43mro\u001b[49m\u001b[43m.\u001b[49m\u001b[43mr\u001b[49m\u001b[43m(\u001b[49m\u001b[33;43m\"\u001b[39;49m\u001b[33;43mwithVisible(\u001b[39;49m\u001b[33;43m{\u001b[39;49m\u001b[38;5;132;43;01m%s\u001b[39;49;00m\u001b[38;5;130;43;01m\\n\u001b[39;49;00m\u001b[33;43m})\u001b[39;49m\u001b[33;43m\"\u001b[39;49m\u001b[43m \u001b[49m\u001b[43m%\u001b[49m\u001b[43m \u001b[49m\u001b[43mcode\u001b[49m\u001b[43m)\u001b[49m\n\u001b[32m    386\u001b[39m \u001b[38;5;28;01mexcept\u001b[39;00m (ri.embedded.RRuntimeError, \u001b[38;5;167;01mValueError\u001b[39;00m) \u001b[38;5;28;01mas\u001b[39;00m exception:\n\u001b[32m    387\u001b[39m     \u001b[38;5;66;03m# Otherwise next return seems to have copy of error.\u001b[39;00m\n",
      "\u001b[36mFile \u001b[39m\u001b[32m/opt/conda/lib/python3.11/site-packages/rpy2/robjects/__init__.py:459\u001b[39m, in \u001b[36mR.__call__\u001b[39m\u001b[34m(self, string)\u001b[39m\n\u001b[32m    458\u001b[39m p = rinterface.parse(string)\n\u001b[32m--> \u001b[39m\u001b[32m459\u001b[39m res = \u001b[38;5;28;43mself\u001b[39;49m\u001b[43m.\u001b[49m\u001b[43meval\u001b[49m\u001b[43m(\u001b[49m\u001b[43mp\u001b[49m\u001b[43m)\u001b[49m\n\u001b[32m    460\u001b[39m \u001b[38;5;28;01mreturn\u001b[39;00m conversion.get_conversion().rpy2py(res)\n",
      "\u001b[36mFile \u001b[39m\u001b[32m/opt/conda/lib/python3.11/site-packages/rpy2/robjects/functions.py:208\u001b[39m, in \u001b[36mSignatureTranslatedFunction.__call__\u001b[39m\u001b[34m(self, *args, **kwargs)\u001b[39m\n\u001b[32m    207\u001b[39m         kwargs[r_k] = v\n\u001b[32m--> \u001b[39m\u001b[32m208\u001b[39m \u001b[38;5;28;01mreturn\u001b[39;00m (\u001b[38;5;28;43msuper\u001b[39;49m\u001b[43m(\u001b[49m\u001b[43mSignatureTranslatedFunction\u001b[49m\u001b[43m,\u001b[49m\u001b[43m \u001b[49m\u001b[38;5;28;43mself\u001b[39;49m\u001b[43m)\u001b[49m\n\u001b[32m    209\u001b[39m \u001b[43m        \u001b[49m\u001b[43m.\u001b[49m\u001b[34;43m__call__\u001b[39;49m\u001b[43m(\u001b[49m\u001b[43m*\u001b[49m\u001b[43margs\u001b[49m\u001b[43m,\u001b[49m\u001b[43m \u001b[49m\u001b[43m*\u001b[49m\u001b[43m*\u001b[49m\u001b[43mkwargs\u001b[49m\u001b[43m)\u001b[49m)\n",
      "\u001b[36mFile \u001b[39m\u001b[32m/opt/conda/lib/python3.11/site-packages/rpy2/robjects/functions.py:131\u001b[39m, in \u001b[36mFunction.__call__\u001b[39m\u001b[34m(self, *args, **kwargs)\u001b[39m\n\u001b[32m    130\u001b[39m         new_kwargs[k] = cv.py2rpy(v)\n\u001b[32m--> \u001b[39m\u001b[32m131\u001b[39m res = \u001b[38;5;28;43msuper\u001b[39;49m\u001b[43m(\u001b[49m\u001b[43mFunction\u001b[49m\u001b[43m,\u001b[49m\u001b[43m \u001b[49m\u001b[38;5;28;43mself\u001b[39;49m\u001b[43m)\u001b[49m\u001b[43m.\u001b[49m\u001b[34;43m__call__\u001b[39;49m\u001b[43m(\u001b[49m\u001b[43m*\u001b[49m\u001b[43mnew_args\u001b[49m\u001b[43m,\u001b[49m\u001b[43m \u001b[49m\u001b[43m*\u001b[49m\u001b[43m*\u001b[49m\u001b[43mnew_kwargs\u001b[49m\u001b[43m)\u001b[49m\n\u001b[32m    132\u001b[39m res = cv.rpy2py(res)\n",
      "\u001b[36mFile \u001b[39m\u001b[32m/opt/conda/lib/python3.11/site-packages/rpy2/rinterface_lib/conversion.py:45\u001b[39m, in \u001b[36m_cdata_res_to_rinterface.<locals>._\u001b[39m\u001b[34m(*args, **kwargs)\u001b[39m\n\u001b[32m     44\u001b[39m \u001b[38;5;28;01mdef\u001b[39;00m\u001b[38;5;250m \u001b[39m\u001b[34m_\u001b[39m(*args, **kwargs):\n\u001b[32m---> \u001b[39m\u001b[32m45\u001b[39m     cdata = \u001b[43mfunction\u001b[49m\u001b[43m(\u001b[49m\u001b[43m*\u001b[49m\u001b[43margs\u001b[49m\u001b[43m,\u001b[49m\u001b[43m \u001b[49m\u001b[43m*\u001b[49m\u001b[43m*\u001b[49m\u001b[43mkwargs\u001b[49m\u001b[43m)\u001b[49m\n\u001b[32m     46\u001b[39m     \u001b[38;5;66;03m# TODO: test cdata is of the expected CType\u001b[39;00m\n",
      "\u001b[36mFile \u001b[39m\u001b[32m/opt/conda/lib/python3.11/site-packages/rpy2/rinterface.py:817\u001b[39m, in \u001b[36mSexpClosure.__call__\u001b[39m\u001b[34m(self, *args, **kwargs)\u001b[39m\n\u001b[32m    816\u001b[39m     \u001b[38;5;28;01mif\u001b[39;00m error_occured[\u001b[32m0\u001b[39m]:\n\u001b[32m--> \u001b[39m\u001b[32m817\u001b[39m         \u001b[38;5;28;01mraise\u001b[39;00m embedded.RRuntimeError(_rinterface._geterrmessage())\n\u001b[32m    818\u001b[39m \u001b[38;5;28;01mreturn\u001b[39;00m res\n",
      "\u001b[31mRRuntimeError\u001b[39m: Error in results(dds, contrast = c(\"library_name\", \"Hp\", \"Gast\")) : \n  could not find function \"results\"\n",
      "\nDuring handling of the above exception, another exception occurred:\n",
      "\u001b[31mRInterpreterError\u001b[39m                         Traceback (most recent call last)",
      "\u001b[36mCell\u001b[39m\u001b[36m \u001b[39m\u001b[32mIn[4]\u001b[39m\u001b[32m, line 1\u001b[39m\n\u001b[32m----> \u001b[39m\u001b[32m1\u001b[39m \u001b[43mget_ipython\u001b[49m\u001b[43m(\u001b[49m\u001b[43m)\u001b[49m\u001b[43m.\u001b[49m\u001b[43mrun_cell_magic\u001b[49m\u001b[43m(\u001b[49m\u001b[33;43m'\u001b[39;49m\u001b[33;43mR\u001b[39;49m\u001b[33;43m'\u001b[39;49m\u001b[43m,\u001b[49m\u001b[43m \u001b[49m\u001b[33;43m'\u001b[39;49m\u001b[33;43m'\u001b[39;49m\u001b[43m,\u001b[49m\u001b[43m \u001b[49m\u001b[33;43m'\u001b[39;49m\u001b[33;43mres_Hp_vs_Gast <- results(dds, contrast = c(\u001b[39;49m\u001b[33;43m\"\u001b[39;49m\u001b[33;43mlibrary_name\u001b[39;49m\u001b[33;43m\"\u001b[39;49m\u001b[33;43m, \u001b[39;49m\u001b[33;43m\"\u001b[39;49m\u001b[33;43mHp\u001b[39;49m\u001b[33;43m\"\u001b[39;49m\u001b[33;43m, \u001b[39;49m\u001b[33;43m\"\u001b[39;49m\u001b[33;43mGast\u001b[39;49m\u001b[33;43m\"\u001b[39;49m\u001b[33;43m))\u001b[39;49m\u001b[38;5;130;43;01m\\n\u001b[39;49;00m\u001b[33;43m#summary(res_Hp_vs_Gast)\u001b[39;49m\u001b[38;5;130;43;01m\\n\u001b[39;49;00m\u001b[33;43mres_Hp_vs_Gast\u001b[39;49m\u001b[38;5;130;43;01m\\n\u001b[39;49;00m\u001b[33;43m'\u001b[39;49m\u001b[43m)\u001b[49m\n",
      "\u001b[36mFile \u001b[39m\u001b[32m/opt/conda/lib/python3.11/site-packages/IPython/core/interactiveshell.py:2539\u001b[39m, in \u001b[36mInteractiveShell.run_cell_magic\u001b[39m\u001b[34m(self, magic_name, line, cell)\u001b[39m\n\u001b[32m   2537\u001b[39m \u001b[38;5;28;01mwith\u001b[39;00m \u001b[38;5;28mself\u001b[39m.builtin_trap:\n\u001b[32m   2538\u001b[39m     args = (magic_arg_s, cell)\n\u001b[32m-> \u001b[39m\u001b[32m2539\u001b[39m     result = \u001b[43mfn\u001b[49m\u001b[43m(\u001b[49m\u001b[43m*\u001b[49m\u001b[43margs\u001b[49m\u001b[43m,\u001b[49m\u001b[43m \u001b[49m\u001b[43m*\u001b[49m\u001b[43m*\u001b[49m\u001b[43mkwargs\u001b[49m\u001b[43m)\u001b[49m\n\u001b[32m   2541\u001b[39m \u001b[38;5;66;03m# The code below prevents the output from being displayed\u001b[39;00m\n\u001b[32m   2542\u001b[39m \u001b[38;5;66;03m# when using magics with decorator @output_can_be_silenced\u001b[39;00m\n\u001b[32m   2543\u001b[39m \u001b[38;5;66;03m# when the last Python token in the expression is a ';'.\u001b[39;00m\n\u001b[32m   2544\u001b[39m \u001b[38;5;28;01mif\u001b[39;00m \u001b[38;5;28mgetattr\u001b[39m(fn, magic.MAGIC_OUTPUT_CAN_BE_SILENCED, \u001b[38;5;28;01mFalse\u001b[39;00m):\n",
      "\u001b[36mFile \u001b[39m\u001b[32m/opt/conda/lib/python3.11/site-packages/rpy2/ipython/rmagic.py:943\u001b[39m, in \u001b[36mRMagics.R\u001b[39m\u001b[34m(self, line, cell, local_ns)\u001b[39m\n\u001b[32m    941\u001b[39m     \u001b[38;5;28;01mif\u001b[39;00m \u001b[38;5;129;01mnot\u001b[39;00m e.stdout.endswith(e.err):\n\u001b[32m    942\u001b[39m         \u001b[38;5;28mprint\u001b[39m(e.err)\n\u001b[32m--> \u001b[39m\u001b[32m943\u001b[39m     \u001b[38;5;28;01mraise\u001b[39;00m e\n\u001b[32m    944\u001b[39m \u001b[38;5;28;01mfinally\u001b[39;00m:\n\u001b[32m    945\u001b[39m     \u001b[38;5;28;01mif\u001b[39;00m \u001b[38;5;28mself\u001b[39m.device \u001b[38;5;129;01min\u001b[39;00m DEVICES_STATIC:\n",
      "\u001b[36mFile \u001b[39m\u001b[32m/opt/conda/lib/python3.11/site-packages/rpy2/ipython/rmagic.py:923\u001b[39m, in \u001b[36mRMagics.R\u001b[39m\u001b[34m(self, line, cell, local_ns)\u001b[39m\n\u001b[32m    921\u001b[39m         return_output = \u001b[38;5;28;01mFalse\u001b[39;00m\n\u001b[32m    922\u001b[39m \u001b[38;5;28;01melse\u001b[39;00m:\n\u001b[32m--> \u001b[39m\u001b[32m923\u001b[39m     text_result, result, visible = \u001b[38;5;28;43mself\u001b[39;49m\u001b[43m.\u001b[49m\u001b[43meval\u001b[49m\u001b[43m(\u001b[49m\u001b[43mcode\u001b[49m\u001b[43m)\u001b[49m\n\u001b[32m    924\u001b[39m     text_output += text_result\n\u001b[32m    925\u001b[39m     \u001b[38;5;28;01mif\u001b[39;00m visible:\n",
      "\u001b[36mFile \u001b[39m\u001b[32m/opt/conda/lib/python3.11/site-packages/rpy2/ipython/rmagic.py:389\u001b[39m, in \u001b[36mRMagics.eval\u001b[39m\u001b[34m(self, code)\u001b[39m\n\u001b[32m    386\u001b[39m \u001b[38;5;28;01mexcept\u001b[39;00m (ri.embedded.RRuntimeError, \u001b[38;5;167;01mValueError\u001b[39;00m) \u001b[38;5;28;01mas\u001b[39;00m exception:\n\u001b[32m    387\u001b[39m     \u001b[38;5;66;03m# Otherwise next return seems to have copy of error.\u001b[39;00m\n\u001b[32m    388\u001b[39m     warning_or_other_msg = \u001b[38;5;28mself\u001b[39m.flush()\n\u001b[32m--> \u001b[39m\u001b[32m389\u001b[39m     \u001b[38;5;28;01mraise\u001b[39;00m RInterpreterError(code, \u001b[38;5;28mstr\u001b[39m(exception),\n\u001b[32m    390\u001b[39m                             warning_or_other_msg)\n\u001b[32m    391\u001b[39m text_output = \u001b[38;5;28mself\u001b[39m.flush()\n\u001b[32m    392\u001b[39m \u001b[38;5;28;01mreturn\u001b[39;00m text_output, value, visible[\u001b[32m0\u001b[39m]\n",
      "\u001b[31mRInterpreterError\u001b[39m: Failed to parse and evaluate line 'res_Hp_vs_Gast <- results(dds, contrast = c(\"library_name\", \"Hp\", \"Gast\"))\\n#summary(res_Hp_vs_Gast)\\nres_Hp_vs_Gast\\n'.\nR error message: 'Error in results(dds, contrast = c(\"library_name\", \"Hp\", \"Gast\")) : \\n  could not find function \"results\"'"
     ]
    }
   ],
   "source": [
    "%%R\n",
    "res_Hp_vs_Gast <- results(dds, contrast = c(\"library_name\", \"Hp\", \"Gast\"))\n",
    "#summary(res_Hp_vs_Gast)\n",
    "res_Hp_vs_Gast"
   ]
  },
  {
   "cell_type": "code",
   "execution_count": null,
   "id": "e416ff3a-4a33-47ac-8d62-17e602baaaaf",
   "metadata": {},
   "outputs": [
    {
     "name": "stderr",
     "output_type": "stream",
     "text": [
      "R[write to console]: Error in (function (expr, envir = parent.frame(), enclos = if (is.list(envir) ||  : \n",
      "  object 'res_Hp_vs_Gast' not found\n",
      "\n"
     ]
    },
    {
     "name": "stdout",
     "output_type": "stream",
     "text": [
      "\n",
      "Error in (function (expr, envir = parent.frame(), enclos = if (is.list(envir) ||  : \n",
      "  object 'res_Hp_vs_Gast' not found\n"
     ]
    },
    {
     "ename": "RInterpreterError",
     "evalue": "Failed to parse and evaluate line 'res_Hp_vs_Gast_ordered <- order(res_Hp_vs_Gast$padj, decreasing = FALSE, na.last=TRUE)\\nres_Hp_vs_Gast_ordered_decreasing = res_Hp_vs_Gast[res_Hp_vs_Gast_ordered,]\\nres_Hp_vs_Gast_ordered_decreasing\\n'.\nR error message: \"Error in (function (expr, envir = parent.frame(), enclos = if (is.list(envir) ||  : \\n  object 'res_Hp_vs_Gast' not found\"",
     "output_type": "error",
     "traceback": [
      "\u001b[31m---------------------------------------------------------------------------\u001b[39m",
      "\u001b[31mRRuntimeError\u001b[39m                             Traceback (most recent call last)",
      "\u001b[36mFile \u001b[39m\u001b[32m/opt/conda/lib/python3.11/site-packages/rpy2/ipython/rmagic.py:385\u001b[39m, in \u001b[36mRMagics.eval\u001b[39m\u001b[34m(self, code)\u001b[39m\n\u001b[32m    383\u001b[39m \u001b[38;5;28;01mtry\u001b[39;00m:\n\u001b[32m    384\u001b[39m     \u001b[38;5;66;03m# Need the newline in case the last line in code is a comment.\u001b[39;00m\n\u001b[32m--> \u001b[39m\u001b[32m385\u001b[39m     value, visible = \u001b[43mro\u001b[49m\u001b[43m.\u001b[49m\u001b[43mr\u001b[49m\u001b[43m(\u001b[49m\u001b[33;43m\"\u001b[39;49m\u001b[33;43mwithVisible(\u001b[39;49m\u001b[33;43m{\u001b[39;49m\u001b[38;5;132;43;01m%s\u001b[39;49;00m\u001b[38;5;130;43;01m\\n\u001b[39;49;00m\u001b[33;43m})\u001b[39;49m\u001b[33;43m\"\u001b[39;49m\u001b[43m \u001b[49m\u001b[43m%\u001b[49m\u001b[43m \u001b[49m\u001b[43mcode\u001b[49m\u001b[43m)\u001b[49m\n\u001b[32m    386\u001b[39m \u001b[38;5;28;01mexcept\u001b[39;00m (ri.embedded.RRuntimeError, \u001b[38;5;167;01mValueError\u001b[39;00m) \u001b[38;5;28;01mas\u001b[39;00m exception:\n\u001b[32m    387\u001b[39m     \u001b[38;5;66;03m# Otherwise next return seems to have copy of error.\u001b[39;00m\n",
      "\u001b[36mFile \u001b[39m\u001b[32m/opt/conda/lib/python3.11/site-packages/rpy2/robjects/__init__.py:459\u001b[39m, in \u001b[36mR.__call__\u001b[39m\u001b[34m(self, string)\u001b[39m\n\u001b[32m    458\u001b[39m p = rinterface.parse(string)\n\u001b[32m--> \u001b[39m\u001b[32m459\u001b[39m res = \u001b[38;5;28;43mself\u001b[39;49m\u001b[43m.\u001b[49m\u001b[43meval\u001b[49m\u001b[43m(\u001b[49m\u001b[43mp\u001b[49m\u001b[43m)\u001b[49m\n\u001b[32m    460\u001b[39m \u001b[38;5;28;01mreturn\u001b[39;00m conversion.get_conversion().rpy2py(res)\n",
      "\u001b[36mFile \u001b[39m\u001b[32m/opt/conda/lib/python3.11/site-packages/rpy2/robjects/functions.py:208\u001b[39m, in \u001b[36mSignatureTranslatedFunction.__call__\u001b[39m\u001b[34m(self, *args, **kwargs)\u001b[39m\n\u001b[32m    207\u001b[39m         kwargs[r_k] = v\n\u001b[32m--> \u001b[39m\u001b[32m208\u001b[39m \u001b[38;5;28;01mreturn\u001b[39;00m (\u001b[38;5;28;43msuper\u001b[39;49m\u001b[43m(\u001b[49m\u001b[43mSignatureTranslatedFunction\u001b[49m\u001b[43m,\u001b[49m\u001b[43m \u001b[49m\u001b[38;5;28;43mself\u001b[39;49m\u001b[43m)\u001b[49m\n\u001b[32m    209\u001b[39m \u001b[43m        \u001b[49m\u001b[43m.\u001b[49m\u001b[34;43m__call__\u001b[39;49m\u001b[43m(\u001b[49m\u001b[43m*\u001b[49m\u001b[43margs\u001b[49m\u001b[43m,\u001b[49m\u001b[43m \u001b[49m\u001b[43m*\u001b[49m\u001b[43m*\u001b[49m\u001b[43mkwargs\u001b[49m\u001b[43m)\u001b[49m)\n",
      "\u001b[36mFile \u001b[39m\u001b[32m/opt/conda/lib/python3.11/site-packages/rpy2/robjects/functions.py:131\u001b[39m, in \u001b[36mFunction.__call__\u001b[39m\u001b[34m(self, *args, **kwargs)\u001b[39m\n\u001b[32m    130\u001b[39m         new_kwargs[k] = cv.py2rpy(v)\n\u001b[32m--> \u001b[39m\u001b[32m131\u001b[39m res = \u001b[38;5;28;43msuper\u001b[39;49m\u001b[43m(\u001b[49m\u001b[43mFunction\u001b[49m\u001b[43m,\u001b[49m\u001b[43m \u001b[49m\u001b[38;5;28;43mself\u001b[39;49m\u001b[43m)\u001b[49m\u001b[43m.\u001b[49m\u001b[34;43m__call__\u001b[39;49m\u001b[43m(\u001b[49m\u001b[43m*\u001b[49m\u001b[43mnew_args\u001b[49m\u001b[43m,\u001b[49m\u001b[43m \u001b[49m\u001b[43m*\u001b[49m\u001b[43m*\u001b[49m\u001b[43mnew_kwargs\u001b[49m\u001b[43m)\u001b[49m\n\u001b[32m    132\u001b[39m res = cv.rpy2py(res)\n",
      "\u001b[36mFile \u001b[39m\u001b[32m/opt/conda/lib/python3.11/site-packages/rpy2/rinterface_lib/conversion.py:45\u001b[39m, in \u001b[36m_cdata_res_to_rinterface.<locals>._\u001b[39m\u001b[34m(*args, **kwargs)\u001b[39m\n\u001b[32m     44\u001b[39m \u001b[38;5;28;01mdef\u001b[39;00m\u001b[38;5;250m \u001b[39m\u001b[34m_\u001b[39m(*args, **kwargs):\n\u001b[32m---> \u001b[39m\u001b[32m45\u001b[39m     cdata = \u001b[43mfunction\u001b[49m\u001b[43m(\u001b[49m\u001b[43m*\u001b[49m\u001b[43margs\u001b[49m\u001b[43m,\u001b[49m\u001b[43m \u001b[49m\u001b[43m*\u001b[49m\u001b[43m*\u001b[49m\u001b[43mkwargs\u001b[49m\u001b[43m)\u001b[49m\n\u001b[32m     46\u001b[39m     \u001b[38;5;66;03m# TODO: test cdata is of the expected CType\u001b[39;00m\n",
      "\u001b[36mFile \u001b[39m\u001b[32m/opt/conda/lib/python3.11/site-packages/rpy2/rinterface.py:817\u001b[39m, in \u001b[36mSexpClosure.__call__\u001b[39m\u001b[34m(self, *args, **kwargs)\u001b[39m\n\u001b[32m    816\u001b[39m     \u001b[38;5;28;01mif\u001b[39;00m error_occured[\u001b[32m0\u001b[39m]:\n\u001b[32m--> \u001b[39m\u001b[32m817\u001b[39m         \u001b[38;5;28;01mraise\u001b[39;00m embedded.RRuntimeError(_rinterface._geterrmessage())\n\u001b[32m    818\u001b[39m \u001b[38;5;28;01mreturn\u001b[39;00m res\n",
      "\u001b[31mRRuntimeError\u001b[39m: Error in (function (expr, envir = parent.frame(), enclos = if (is.list(envir) ||  : \n  object 'res_Hp_vs_Gast' not found\n",
      "\nDuring handling of the above exception, another exception occurred:\n",
      "\u001b[31mRInterpreterError\u001b[39m                         Traceback (most recent call last)",
      "\u001b[36mCell\u001b[39m\u001b[36m \u001b[39m\u001b[32mIn[5]\u001b[39m\u001b[32m, line 1\u001b[39m\n\u001b[32m----> \u001b[39m\u001b[32m1\u001b[39m \u001b[43mget_ipython\u001b[49m\u001b[43m(\u001b[49m\u001b[43m)\u001b[49m\u001b[43m.\u001b[49m\u001b[43mrun_cell_magic\u001b[49m\u001b[43m(\u001b[49m\u001b[33;43m'\u001b[39;49m\u001b[33;43mR\u001b[39;49m\u001b[33;43m'\u001b[39;49m\u001b[43m,\u001b[49m\u001b[43m \u001b[49m\u001b[33;43m'\u001b[39;49m\u001b[33;43m'\u001b[39;49m\u001b[43m,\u001b[49m\u001b[43m \u001b[49m\u001b[33;43m'\u001b[39;49m\u001b[33;43mres_Hp_vs_Gast_ordered <- order(res_Hp_vs_Gast$padj, decreasing = FALSE, na.last=TRUE)\u001b[39;49m\u001b[38;5;130;43;01m\\n\u001b[39;49;00m\u001b[33;43mres_Hp_vs_Gast_ordered_decreasing = res_Hp_vs_Gast[res_Hp_vs_Gast_ordered,]\u001b[39;49m\u001b[38;5;130;43;01m\\n\u001b[39;49;00m\u001b[33;43mres_Hp_vs_Gast_ordered_decreasing\u001b[39;49m\u001b[38;5;130;43;01m\\n\u001b[39;49;00m\u001b[33;43m'\u001b[39;49m\u001b[43m)\u001b[49m\n",
      "\u001b[36mFile \u001b[39m\u001b[32m/opt/conda/lib/python3.11/site-packages/IPython/core/interactiveshell.py:2539\u001b[39m, in \u001b[36mInteractiveShell.run_cell_magic\u001b[39m\u001b[34m(self, magic_name, line, cell)\u001b[39m\n\u001b[32m   2537\u001b[39m \u001b[38;5;28;01mwith\u001b[39;00m \u001b[38;5;28mself\u001b[39m.builtin_trap:\n\u001b[32m   2538\u001b[39m     args = (magic_arg_s, cell)\n\u001b[32m-> \u001b[39m\u001b[32m2539\u001b[39m     result = \u001b[43mfn\u001b[49m\u001b[43m(\u001b[49m\u001b[43m*\u001b[49m\u001b[43margs\u001b[49m\u001b[43m,\u001b[49m\u001b[43m \u001b[49m\u001b[43m*\u001b[49m\u001b[43m*\u001b[49m\u001b[43mkwargs\u001b[49m\u001b[43m)\u001b[49m\n\u001b[32m   2541\u001b[39m \u001b[38;5;66;03m# The code below prevents the output from being displayed\u001b[39;00m\n\u001b[32m   2542\u001b[39m \u001b[38;5;66;03m# when using magics with decorator @output_can_be_silenced\u001b[39;00m\n\u001b[32m   2543\u001b[39m \u001b[38;5;66;03m# when the last Python token in the expression is a ';'.\u001b[39;00m\n\u001b[32m   2544\u001b[39m \u001b[38;5;28;01mif\u001b[39;00m \u001b[38;5;28mgetattr\u001b[39m(fn, magic.MAGIC_OUTPUT_CAN_BE_SILENCED, \u001b[38;5;28;01mFalse\u001b[39;00m):\n",
      "\u001b[36mFile \u001b[39m\u001b[32m/opt/conda/lib/python3.11/site-packages/rpy2/ipython/rmagic.py:943\u001b[39m, in \u001b[36mRMagics.R\u001b[39m\u001b[34m(self, line, cell, local_ns)\u001b[39m\n\u001b[32m    941\u001b[39m     \u001b[38;5;28;01mif\u001b[39;00m \u001b[38;5;129;01mnot\u001b[39;00m e.stdout.endswith(e.err):\n\u001b[32m    942\u001b[39m         \u001b[38;5;28mprint\u001b[39m(e.err)\n\u001b[32m--> \u001b[39m\u001b[32m943\u001b[39m     \u001b[38;5;28;01mraise\u001b[39;00m e\n\u001b[32m    944\u001b[39m \u001b[38;5;28;01mfinally\u001b[39;00m:\n\u001b[32m    945\u001b[39m     \u001b[38;5;28;01mif\u001b[39;00m \u001b[38;5;28mself\u001b[39m.device \u001b[38;5;129;01min\u001b[39;00m DEVICES_STATIC:\n",
      "\u001b[36mFile \u001b[39m\u001b[32m/opt/conda/lib/python3.11/site-packages/rpy2/ipython/rmagic.py:923\u001b[39m, in \u001b[36mRMagics.R\u001b[39m\u001b[34m(self, line, cell, local_ns)\u001b[39m\n\u001b[32m    921\u001b[39m         return_output = \u001b[38;5;28;01mFalse\u001b[39;00m\n\u001b[32m    922\u001b[39m \u001b[38;5;28;01melse\u001b[39;00m:\n\u001b[32m--> \u001b[39m\u001b[32m923\u001b[39m     text_result, result, visible = \u001b[38;5;28;43mself\u001b[39;49m\u001b[43m.\u001b[49m\u001b[43meval\u001b[49m\u001b[43m(\u001b[49m\u001b[43mcode\u001b[49m\u001b[43m)\u001b[49m\n\u001b[32m    924\u001b[39m     text_output += text_result\n\u001b[32m    925\u001b[39m     \u001b[38;5;28;01mif\u001b[39;00m visible:\n",
      "\u001b[36mFile \u001b[39m\u001b[32m/opt/conda/lib/python3.11/site-packages/rpy2/ipython/rmagic.py:389\u001b[39m, in \u001b[36mRMagics.eval\u001b[39m\u001b[34m(self, code)\u001b[39m\n\u001b[32m    386\u001b[39m \u001b[38;5;28;01mexcept\u001b[39;00m (ri.embedded.RRuntimeError, \u001b[38;5;167;01mValueError\u001b[39;00m) \u001b[38;5;28;01mas\u001b[39;00m exception:\n\u001b[32m    387\u001b[39m     \u001b[38;5;66;03m# Otherwise next return seems to have copy of error.\u001b[39;00m\n\u001b[32m    388\u001b[39m     warning_or_other_msg = \u001b[38;5;28mself\u001b[39m.flush()\n\u001b[32m--> \u001b[39m\u001b[32m389\u001b[39m     \u001b[38;5;28;01mraise\u001b[39;00m RInterpreterError(code, \u001b[38;5;28mstr\u001b[39m(exception),\n\u001b[32m    390\u001b[39m                             warning_or_other_msg)\n\u001b[32m    391\u001b[39m text_output = \u001b[38;5;28mself\u001b[39m.flush()\n\u001b[32m    392\u001b[39m \u001b[38;5;28;01mreturn\u001b[39;00m text_output, value, visible[\u001b[32m0\u001b[39m]\n",
      "\u001b[31mRInterpreterError\u001b[39m: Failed to parse and evaluate line 'res_Hp_vs_Gast_ordered <- order(res_Hp_vs_Gast$padj, decreasing = FALSE, na.last=TRUE)\\nres_Hp_vs_Gast_ordered_decreasing = res_Hp_vs_Gast[res_Hp_vs_Gast_ordered,]\\nres_Hp_vs_Gast_ordered_decreasing\\n'.\nR error message: \"Error in (function (expr, envir = parent.frame(), enclos = if (is.list(envir) ||  : \\n  object 'res_Hp_vs_Gast' not found\""
     ]
    }
   ],
   "source": [
    "%%R\n",
    "res_Hp_vs_Gast_ordered <- order(res_Hp_vs_Gast$padj, decreasing = FALSE, na.last=TRUE)\n",
    "res_Hp_vs_Gast_ordered_decreasing = res_Hp_vs_Gast[res_Hp_vs_Gast_ordered,]\n",
    "res_Hp_vs_Gast_ordered_decreasing"
   ]
  },
  {
   "cell_type": "code",
   "execution_count": null,
   "id": "576518b4",
   "metadata": {},
   "outputs": [
    {
     "name": "stdout",
     "output_type": "stream",
     "text": [
      "log2 fold change (MLE): library_name Hp vs Atr \n",
      "Wald test p-value: library_name Hp vs Atr \n",
      "DataFrame with 1609 rows and 6 columns\n",
      "           baseMean log2FoldChange     lfcSE      stat    pvalue      padj\n",
      "          <numeric>      <numeric> <numeric> <numeric> <numeric> <numeric>\n",
      "HP_0573  1.10796160        3.75765   1.63715   2.29523 0.0217197 0.0669435\n",
      "HP_0020  1.52407428        2.89628   1.32931   2.17879 0.0293472 0.0716995\n",
      "HP_1325  3.50070483        1.82487   1.19282   1.52988 0.1260467 0.1583725\n",
      "HP_0038  0.24361425        5.27531   3.80386   1.38683 0.1654931 0.1957109\n",
      "HP_0765  0.00234331        7.73096   4.54249   1.70192 0.0887704        NA\n",
      "...             ...            ...       ...       ...       ...       ...\n",
      "HP_t07  7.31786e+00      1.8001679  1.209119  1.488826 0.1365331  0.167964\n",
      "HP_t08  3.38644e-02      6.6522254  4.534379  1.467064 0.1423586        NA\n",
      "HP_r07  5.74574e+03     -0.0240363  0.148777 -0.161559 0.8716534  0.883087\n",
      "HP_t12  2.54464e-02      7.7309994  4.542491  1.701930 0.0887686        NA\n",
      "HP_t06  0.00000e+00             NA        NA        NA        NA        NA\n"
     ]
    }
   ],
   "source": [
    "%%R\n",
    "\n",
    "res_Hp_vs_Atr <- results(dds, contrast = c(\"library_name\", \"Hp\", \"Atr\"))\n",
    "res_Hp_vs_Atr"
   ]
  },
  {
   "cell_type": "code",
   "execution_count": null,
   "id": "315ec23a",
   "metadata": {},
   "outputs": [
    {
     "name": "stdout",
     "output_type": "stream",
     "text": [
      "log2 fold change (MLE): library_name Hp vs EA \n",
      "Wald test p-value: library_name Hp vs EA \n",
      "DataFrame with 1609 rows and 6 columns\n",
      "           baseMean log2FoldChange     lfcSE      stat     pvalue      padj\n",
      "          <numeric>      <numeric> <numeric> <numeric>  <numeric> <numeric>\n",
      "HP_0573  1.10796160        4.00459   1.72469   2.32192 0.02023702 0.0973584\n",
      "HP_0020  1.52407428        3.81601   1.39255   2.74029 0.00613843 0.0905383\n",
      "HP_1325  3.50070483        2.60997   1.23780   2.10856 0.03498220 0.1005499\n",
      "HP_0038  0.24361425        7.73665   4.14674   1.86572 0.06208077        NA\n",
      "HP_0765  0.00234331        0.00000   4.93025   0.00000 1.00000000        NA\n",
      "...             ...            ...       ...       ...        ...       ...\n",
      "HP_t07  7.31786e+00      0.6836978  1.248416  0.547652   0.583931  0.613069\n",
      "HP_t08  3.38644e-02      0.0000000  4.930247  0.000000   1.000000        NA\n",
      "HP_r07  5.74574e+03      0.0796109  0.157502  0.505461   0.613235  0.640003\n",
      "HP_t12  2.54464e-02      7.1989515  4.907646  1.466885   0.142407        NA\n",
      "HP_t06  0.00000e+00             NA        NA        NA         NA        NA\n"
     ]
    }
   ],
   "source": [
    "%%R \n",
    "res_Hp_vs_EA <- results(dds, contrast = c(\"library_name\", \"Hp\", \"EA\"))\n",
    "res_Hp_vs_EA"
   ]
  },
  {
   "cell_type": "code",
   "execution_count": null,
   "id": "8a756717",
   "metadata": {},
   "outputs": [
    {
     "name": "stdout",
     "output_type": "stream",
     "text": [
      "log2 fold change (MLE): library_name Hp vs Met \n",
      "Wald test p-value: library_name Hp vs Met \n",
      "DataFrame with 1609 rows and 6 columns\n",
      "           baseMean log2FoldChange     lfcSE      stat    pvalue      padj\n",
      "          <numeric>      <numeric> <numeric> <numeric> <numeric> <numeric>\n",
      "HP_0573  1.10796160        2.21958   1.96102  1.131849  0.257698  0.819731\n",
      "HP_0020  1.52407428        1.53117   1.57934  0.969496  0.332298  0.819731\n",
      "HP_1325  3.50070483        1.07235   1.40420  0.763679  0.445058  0.823439\n",
      "HP_0038  0.24361425        0.00000   4.56550  0.000000  1.000000  1.000000\n",
      "HP_0765  0.00234331        0.00000   5.42657  0.000000  1.000000  1.000000\n",
      "...             ...            ...       ...       ...       ...       ...\n",
      "HP_t07  7.31786e+00     -0.3910015  1.415718 -0.276186  0.782405         1\n",
      "HP_t08  3.38644e-02      0.0000000  5.426570  0.000000  1.000000         1\n",
      "HP_r07  5.74574e+03      0.0474453  0.176132  0.269373  0.787642         1\n",
      "HP_t12  2.54464e-02      0.0000000  5.426570  0.000000  1.000000         1\n",
      "HP_t06  0.00000e+00             NA        NA        NA        NA        NA\n"
     ]
    }
   ],
   "source": [
    "%%R\n",
    "res_Hp_vs_Met <- results(dds, contrast = c(\"library_name\", \"Hp\", \"Met\"))\n",
    "res_Hp_vs_Met"
   ]
  },
  {
   "cell_type": "code",
   "execution_count": null,
   "id": "4c8028c6",
   "metadata": {},
   "outputs": [
    {
     "name": "stdout",
     "output_type": "stream",
     "text": [
      "log2 fold change (MLE): library name Met vs Hp \n",
      "Wald test p-value: library name Met vs Hp \n",
      "DataFrame with 1609 rows and 6 columns\n",
      "           baseMean log2FoldChange     lfcSE      stat    pvalue      padj\n",
      "          <numeric>      <numeric> <numeric> <numeric> <numeric> <numeric>\n",
      "HP_0573  1.10796160       -2.21958   1.96102 -1.131849  0.257698  0.724893\n",
      "HP_0020  1.52407428       -1.53117   1.57934 -0.969496  0.332298  0.724893\n",
      "HP_1325  3.50070483       -1.07235   1.40420 -0.763679  0.445058  0.724893\n",
      "HP_0038  0.24361425       -2.37333   4.56550 -0.519840  0.603175  0.724893\n",
      "HP_0765  0.00234331       -2.33895   5.42657 -0.431018  0.666455  0.724893\n",
      "...             ...            ...       ...       ...       ...       ...\n",
      "HP_t07  7.31786e+00      0.3910015  1.415718  0.276186  0.782405  0.809036\n",
      "HP_t08  3.38644e-02     -2.3389791  5.426570 -0.431023  0.666451  0.724893\n",
      "HP_r07  5.74574e+03     -0.0474453  0.176132 -0.269373  0.787642  0.813897\n",
      "HP_t12  2.54464e-02     -2.3389962  5.426570 -0.431027  0.666449  0.724893\n",
      "HP_t06  0.00000e+00             NA        NA        NA        NA        NA\n"
     ]
    }
   ],
   "source": [
    "%%R\n",
    "#results for comparison of all 5\n",
    "res=results(dds)\n",
    "res"
   ]
  },
  {
   "cell_type": "code",
   "execution_count": null,
   "id": "48d14714",
   "metadata": {},
   "outputs": [],
   "source": [
    "%%R\n",
    "\n",
    "#Do the same analysis, but remove all genes that have a low expression\n",
    "# Read the data into a data frame\n",
    "data <- read.csv(\"../bacteria_counts_clean.txt\", header = TRUE, sep = \",\")\n",
    "\n",
    "# Function to check if at least 4 columns have a value over 10\n",
    "check_high_expression <- function(row) {\n",
    "  sum(as.numeric(row[-1]) > 10) >= 4\n",
    "}\n",
    "\n",
    "# Apply the function to each row and filter the data\n",
    "filtered_indices <- apply(data, 1, check_high_expression)\n",
    "filtered_data <- data[c(TRUE, filtered_indices), ] # Keep the header and rows with high expression\n",
    "\n",
    "# Write the filtered data to a new file\n",
    "write.csv(filtered_data, \"../bacteria_counts_clean_highexpression.txt\", row.names = FALSE)"
   ]
  },
  {
   "cell_type": "code",
   "execution_count": null,
   "id": "e6e3a4f6",
   "metadata": {},
   "outputs": [
    {
     "name": "stdout",
     "output_type": "stream",
     "text": [
      "[1] TRUE\n"
     ]
    }
   ],
   "source": [
    "%%R \n",
    "\n",
    "highex_counts_DEseq <- read.table(\"../bacteria_counts_clean_highexpression.txt\", header= TRUE, sep=\",\", row.names=1 ) \n",
    "highex_coldata_DEseq <- read.table(\"../metadata_clean_fixgroups.txt\", header= TRUE, sep=\",\", row.names=1) \n",
    "highex_coldata_DEseq$library_name <- factor(highex_coldata_DEseq$library_name, levels = c(\"Hp\", \"Gast\", \"Atr\", \"EA\", \"Met\"))\n",
    "\n",
    "#want rownames of coldata to match column names of counts\n",
    "all(rownames(highex_coldata_DEseq) == colnames(highex_counts_DEseq))   #the files are located one step above in the directory\n",
    "\n"
   ]
  },
  {
   "cell_type": "code",
   "execution_count": 11,
   "id": "c1ee08f0-4d79-43af-9320-3f6d91454352",
   "metadata": {},
   "outputs": [
    {
     "name": "stderr",
     "output_type": "stream",
     "text": [
      "R[write to console]: estimating size factors\n",
      "\n",
      "R[write to console]: estimating dispersions\n",
      "\n",
      "R[write to console]: gene-wise dispersion estimates\n",
      "\n",
      "R[write to console]: mean-dispersion relationship\n",
      "\n",
      "R[write to console]: final dispersion estimates\n",
      "\n",
      "R[write to console]: fitting model and testing\n",
      "\n",
      "R[write to console]: -- replacing outliers and refitting for 8 genes\n",
      "-- DESeq argument 'minReplicatesForReplace' = 7 \n",
      "-- original counts are preserved in counts(dds)\n",
      "\n",
      "R[write to console]: estimating dispersions\n",
      "\n",
      "R[write to console]: fitting model and testing\n",
      "\n"
     ]
    }
   ],
   "source": [
    "%%R\n",
    "highex_dds <- DESeqDataSetFromMatrix(countData=highex_counts_DEseq, \n",
    "                                      colData=highex_coldata_DEseq , \n",
    "                                      design=~library_name) \n",
    "highex_dds <- DESeq(highex_dds)"
   ]
  },
  {
   "cell_type": "code",
   "execution_count": 12,
   "id": "6cb2f130-ade3-4b9f-8023-a4026733b2f7",
   "metadata": {},
   "outputs": [
    {
     "name": "stdout",
     "output_type": "stream",
     "text": [
      "log2 fold change (MLE): library_name Hp vs Gast \n",
      "Wald test p-value: library_name Hp vs Gast \n",
      "DataFrame with 845 rows and 6 columns\n",
      "           baseMean log2FoldChange     lfcSE         stat    pvalue      padj\n",
      "          <numeric>      <numeric> <numeric>    <numeric> <numeric> <numeric>\n",
      "HP_0573    1.096160        3.29062   1.83959      1.78878 0.0736508 0.1267797\n",
      "HP_0020    1.522021        3.84483   1.51794      2.53293 0.0113114 0.0965846\n",
      "HP_1325    3.476098        1.85110   1.28928      1.43576 0.1510714 0.1906514\n",
      "HP_0038    0.260248        6.46196   4.35766      1.48290 0.1381015        NA\n",
      "HP_0493    0.793846        4.33488   2.14551      2.02044 0.0433382 0.1120971\n",
      "...             ...            ...       ...          ...       ...       ...\n",
      "HP_r04  3.33055e+03   -2.64062e-07  0.179307 -1.47268e-06 0.9999988 1.0000000\n",
      "HP_t32  4.31965e-01    6.22245e+00  2.619244  2.37567e+00 0.0175173 0.0987056\n",
      "HP_t11  0.00000e+00             NA        NA           NA        NA        NA\n",
      "HP_t08  3.41687e-02    7.69820e+00  4.922298  1.56394e+00 0.1178307        NA\n",
      "HP_t12  2.54863e-02    7.69821e+00  4.922298  1.56395e+00 0.1178300        NA\n"
     ]
    }
   ],
   "source": [
    "%%R\n",
    "highex_res_Hp_vs_Gast <- results(highex_dds, contrast = c(\"library_name\", \"Hp\", \"Gast\"))\n",
    "#summary(res_Hp_vs_Gast)\n",
    "highex_res_Hp_vs_Gast"
   ]
  },
  {
   "cell_type": "code",
   "execution_count": 15,
   "id": "0aeaeefa-6a84-464c-abc5-5e3c08d3c907",
   "metadata": {},
   "outputs": [
    {
     "name": "stdout",
     "output_type": "stream",
     "text": [
      "log2 fold change (MLE): library_name Hp vs Gast \n",
      "Wald test p-value: library_name Hp vs Gast \n",
      "DataFrame with 9 rows and 6 columns\n",
      "         baseMean log2FoldChange     lfcSE      stat      pvalue       padj\n",
      "        <numeric>      <numeric> <numeric> <numeric>   <numeric>  <numeric>\n",
      "HP_1326  13.54357        6.18562  1.360997   4.54492 5.49565e-06 0.00152779\n",
      "HP_0068  18.74248        4.14776  0.893920   4.63996 3.48469e-06 0.00152779\n",
      "HP_0226   8.02331        5.65642  1.350003   4.18993 2.79042e-05 0.00517157\n",
      "HP_1313  37.10747        3.77380  0.959049   3.93494 8.32174e-05 0.01156722\n",
      "HP_0663   2.14775        7.90353  2.044825   3.86514 1.11026e-04 0.01234614\n",
      "HP_1502   2.69698        6.48726  1.836608   3.53220 4.12121e-04 0.03818989\n",
      "HP_0370   9.33383        4.00493  1.151050   3.47937 5.02589e-04 0.03991990\n",
      "HP_0278   6.21378        3.99807  1.176956   3.39696 6.81384e-04 0.04735616\n",
      "HP_0417   4.69203        3.65678  1.090752   3.35253 8.00752e-04 0.04946867\n"
     ]
    }
   ],
   "source": [
    "%%R\n",
    "# Assuming res_Hp_vs_Gast is your initial DESeq2 results data frame\n",
    "# Remove rows with NA in the padj column\n",
    "clean_res_Hp_vs_Gast <- highex_res_Hp_vs_Gast[!is.na(highex_res_Hp_vs_Gast$padj), ]\n",
    "\n",
    "# Ordering by adjusted p-value (padj)\n",
    "highex_res_Hp_vs_Gast_ordered <- order(clean_res_Hp_vs_Gast$padj, decreasing = FALSE)\n",
    "highex_res_Hp_vs_Gast_ordered_decreasing <- clean_res_Hp_vs_Gast[highex_res_Hp_vs_Gast_ordered, ]\n",
    "\n",
    "# Adding cut-off for padj < 0.05\n",
    "sign_highex_res_Hp_vs_Gast <- highex_res_Hp_vs_Gast_ordered_decreasing[highex_res_Hp_vs_Gast_ordered_decreasing$padj <= 0.05, ]\n",
    "\n",
    "write.csv(sign_highex_res_Hp_vs_Gast, \"../DESeq-Sofia/significant_DEseq_results_Hp_vs_Gast.csv\", row.names = TRUE)\n",
    "# Display the significant results\n",
    "sign_highex_res_Hp_vs_Gast\n"
   ]
  },
  {
   "cell_type": "code",
   "execution_count": 16,
   "id": "a53f6050-676f-4225-9c59-bf9de7932880",
   "metadata": {},
   "outputs": [
    {
     "name": "stdout",
     "output_type": "stream",
     "text": [
      "log2 fold change (MLE): library_name Hp vs Atr \n",
      "Wald test p-value: library_name Hp vs Atr \n",
      "DataFrame with 16 rows and 6 columns\n",
      "         baseMean log2FoldChange     lfcSE      stat      pvalue       padj\n",
      "        <numeric>      <numeric> <numeric> <numeric>   <numeric>  <numeric>\n",
      "HP_1186   6.99043        5.90471  1.309111   4.51047 6.46834e-06 0.00215197\n",
      "HP_0068  18.74248        3.82259  0.854739   4.47223 7.74091e-06 0.00215197\n",
      "HP_0226   8.02331        5.52599  1.276797   4.32801 1.50465e-05 0.00278861\n",
      "HP_0663   2.14775        7.55157  1.908643   3.95651 7.60512e-05 0.01057112\n",
      "HP_0790   2.82383        5.81652  1.526299   3.81087 1.38480e-04 0.01539900\n",
      "...           ...            ...       ...       ...         ...        ...\n",
      "HP_0837   3.76377        4.77489   1.39118   3.43226 0.000598569  0.0294569\n",
      "HP_0098   8.77778        4.54059   1.33373   3.40443 0.000663026  0.0294569\n",
      "HP_1508   3.42204        4.19333   1.29608   3.23539 0.001214779  0.0482441\n",
      "HP_0417   4.69203        3.36955   1.05201   3.20298 0.001360144  0.0489548\n",
      "HP_1360   2.54554        5.52100   1.72918   3.19285 0.001408770  0.0489548\n"
     ]
    }
   ],
   "source": [
    "%%R\n",
    "highex_res_Hp_vs_Atr <- results(highex_dds, contrast = c(\"library_name\", \"Hp\", \"Atr\"))\n",
    "clean_res_Hp_vs_Atr <- highex_res_Hp_vs_Atr[!is.na(highex_res_Hp_vs_Atr$padj), ]\n",
    "\n",
    "# Ordering by adjusted p-value (padj)\n",
    "highex_res_Hp_vs_Atr_ordered <- order(clean_res_Hp_vs_Atr$padj, decreasing = FALSE)\n",
    "highex_res_Hp_vs_Atr_ordered_decreasing <- clean_res_Hp_vs_Atr[highex_res_Hp_vs_Atr_ordered, ]\n",
    "\n",
    "# Adding cut-off for padj < 0.05\n",
    "sign_highex_res_Hp_vs_Atr <- highex_res_Hp_vs_Atr_ordered_decreasing[highex_res_Hp_vs_Atr_ordered_decreasing$padj <= 0.05, ]\n",
    "\n",
    "write.csv(sign_highex_res_Hp_vs_Atr, \"../DESeq-Sofia/significant_DEseq_results_Hp_vs_Atr.csv\", row.names = TRUE)\n",
    "# Display the significant results\n",
    "sign_highex_res_Hp_vs_Atr"
   ]
  },
  {
   "cell_type": "code",
   "execution_count": 17,
   "id": "11fb93b2-2ed0-43b3-ba5f-35e70637ba90",
   "metadata": {},
   "outputs": [
    {
     "name": "stdout",
     "output_type": "stream",
     "text": [
      "log2 fold change (MLE): library_name Hp vs EA \n",
      "Wald test p-value: library_name Hp vs EA \n",
      "DataFrame with 19 rows and 6 columns\n",
      "         baseMean log2FoldChange     lfcSE      stat      pvalue       padj\n",
      "        <numeric>      <numeric> <numeric> <numeric>   <numeric>  <numeric>\n",
      "HP_0226   8.02331        6.11151  1.335464   4.57632 4.73235e-06 0.00130107\n",
      "HP_1326  13.54357        5.99087  1.337672   4.47858 7.51416e-06 0.00130107\n",
      "HP_0068  18.74248        3.89899  0.885244   4.40442 1.06066e-05 0.00130107\n",
      "HP_0669   4.12846        7.41229  1.722723   4.30266 1.68760e-05 0.00155259\n",
      "HP_0219   4.82018        7.10293  1.728238   4.10992 3.95789e-05 0.00291300\n",
      "...           ...            ...       ...       ...         ...        ...\n",
      "HP_0615   4.75254        4.34235   1.36216   3.18784  0.00143339  0.0351658\n",
      "HP_1223   4.04198        4.95310   1.59486   3.10566  0.00189855  0.0410981\n",
      "HP_0417   4.69203        3.36607   1.07823   3.12186  0.00179715  0.0410981\n",
      "HP_1186   6.99043        4.06297   1.33421   3.04523  0.00232499  0.0475332\n",
      "HP_0837   3.76377        4.33746   1.43810   3.01610  0.00256052  0.0495932\n"
     ]
    }
   ],
   "source": [
    "%%R\n",
    "highex_res_Hp_vs_EA <- results(highex_dds, contrast = c(\"library_name\", \"Hp\", \"EA\"))\n",
    "clean_res_Hp_vs_EA <- highex_res_Hp_vs_EA[!is.na(highex_res_Hp_vs_EA$padj), ]\n",
    "\n",
    "# Ordering by adjusted p-value (padj)\n",
    "highex_res_Hp_vs_EA_ordered <- order(clean_res_Hp_vs_EA$padj, decreasing = FALSE)\n",
    "highex_res_Hp_vs_EA_ordered_decreasing <- clean_res_Hp_vs_EA[highex_res_Hp_vs_EA_ordered, ]\n",
    "\n",
    "# Adding cut-off for padj < 0.05\n",
    "sign_highex_res_Hp_vs_EA <- highex_res_Hp_vs_EA_ordered_decreasing[highex_res_Hp_vs_EA_ordered_decreasing$padj <= 0.05, ]\n",
    "\n",
    "write.csv(sign_highex_res_Hp_vs_EA, \"../DESeq-Sofia/significant_DEseq_results_Hp_vs_EA.csv\", row.names = TRUE)\n",
    "# Display the significant results\n",
    "sign_highex_res_Hp_vs_EA"
   ]
  },
  {
   "cell_type": "code",
   "execution_count": 18,
   "id": "d25db69a-08a8-478d-8f7b-0dbb531598b3",
   "metadata": {},
   "outputs": [
    {
     "name": "stdout",
     "output_type": "stream",
     "text": [
      "log2 fold change (MLE): library_name Hp vs Met \n",
      "Wald test p-value: library_name Hp vs Met \n",
      "DataFrame with 802 rows and 6 columns\n",
      "           baseMean log2FoldChange     lfcSE         stat    pvalue      padj\n",
      "          <numeric>      <numeric> <numeric>    <numeric> <numeric> <numeric>\n",
      "HP_0573    1.096160        2.10716   2.08208     1.012044  0.311517  0.884725\n",
      "HP_0020    1.522021        1.46273   1.70053     0.860162  0.389700  0.884725\n",
      "HP_1325    3.476098        1.08572   1.46132     0.742971  0.457499  0.884725\n",
      "HP_0493    0.793846        1.62111   2.39462     0.676981  0.498418  0.884725\n",
      "HP_0300    1.109330        1.81058   2.05674     0.880312  0.378691  0.884725\n",
      "...             ...            ...       ...          ...       ...       ...\n",
      "HP_0060 5.34670e-02    0.00000e+00  5.428870  0.00000e+00  1.000000         1\n",
      "HP_1201 1.03164e+01   -1.69023e-01  1.253814 -1.34807e-01  0.892764         1\n",
      "HP_r04  3.33055e+03   -2.64062e-07  0.200979 -1.31388e-06  0.999999         1\n",
      "HP_t08  3.41687e-02    0.00000e+00  5.428870  0.00000e+00  1.000000         1\n",
      "HP_t12  2.54863e-02    0.00000e+00  5.428870  0.00000e+00  1.000000         1\n"
     ]
    }
   ],
   "source": [
    "%%R\n",
    "highex_res_Hp_vs_Met <- results(highex_dds, contrast = c(\"library_name\", \"Hp\", \"Met\"))\n",
    "clean_res_Hp_vs_Met <- highex_res_Hp_vs_Met[!is.na(highex_res_Hp_vs_Met$padj), ]\n",
    "\n",
    "# Ordering by adjusted p-value (padj)\n",
    "highex_res_Hp_vs_Met_ordered <- order(clean_res_Hp_vs_Met$padj, decreasing = FALSE)\n",
    "highex_res_Hp_vs_Met_ordered_decreasing <- clean_res_Hp_vs_Met[highex_res_Hp_vs_Met_ordered, ]\n",
    "\n",
    "write.csv(highex_res_Hp_vs_Met_ordered_decreasing, \"../DESeq-Sofia/DEseq_results_Hp_vs_Met.csv\", row.names = TRUE)\n",
    "\n",
    "highex_res_Hp_vs_Met_ordered_decreasing"
   ]
  },
  {
   "cell_type": "code",
   "execution_count": 59,
   "id": "a25b1385-761a-43c7-b0a9-9f7c960e2692",
   "metadata": {},
   "outputs": [
    {
     "ename": "SyntaxError",
     "evalue": "invalid syntax (454572767.py, line 2)",
     "output_type": "error",
     "traceback": [
      "  \u001b[36mCell\u001b[39m\u001b[36m \u001b[39m\u001b[32mIn[59]\u001b[39m\u001b[32m, line 2\u001b[39m\n\u001b[31m    \u001b[39m\u001b[31msign_highex_res_Hp_vs_Met <- highex_res_Hp_vs_Met_ordered_decreasing[highex_res_Hp_vs_Met_ordered_decreasing$padj <= 0.05, ]\u001b[39m\n                                                                                                                ^\n\u001b[31mSyntaxError\u001b[39m\u001b[31m:\u001b[39m invalid syntax\n"
     ]
    }
   ],
   "source": [
    "# Adding cut-off for padj < 0.05\n",
    "sign_highex_res_Hp_vs_Met <- highex_res_Hp_vs_Met_ordered_decreasing[highex_res_Hp_vs_Met_ordered_decreasing$padj <= 0.05, ]\n",
    "\n",
    "write.csv(sign_highex_res_Hp_vs_Met, \"../DESeq-Sofia/significant_DEseq_results_Hp_vs_Met.csv\", row.names = FALSE)\n",
    "# Display the significant results\n",
    "sign_highex_res_Hp_vs_Met"
   ]
  },
  {
   "cell_type": "code",
   "execution_count": 19,
   "id": "af0d5a38-e2a9-4a5e-bbf8-cfc1c6925529",
   "metadata": {},
   "outputs": [
    {
     "name": "stdout",
     "output_type": "stream",
     "text": [
      "log2 fold change (MLE): library_name Gast vs Met \n",
      "Wald test p-value: library_name Gast vs Met \n",
      "DataFrame with 0 rows and 6 columns\n"
     ]
    }
   ],
   "source": [
    "%%R\n",
    "#Now compare the first cancer stage to the last (Gast vs Met)\n",
    "\n",
    "highex_res_Gast_vs_Met <- results(highex_dds, contrast = c(\"library_name\", \"Gast\", \"Met\"))\n",
    "clean_res_Gast_vs_Met <- highex_res_Gast_vs_Met[!is.na(highex_res_Gast_vs_Met$padj), ]\n",
    "\n",
    "# Ordering by adjusted p-value (padj)\n",
    "highex_res_Gast_vs_Met_ordered <- order(clean_res_Gast_vs_Met$padj, decreasing = FALSE)\n",
    "highex_res_Gast_vs_Met_ordered_decreasing <- clean_res_Gast_vs_Met[highex_res_Gast_vs_Met_ordered, ]\n",
    "\n",
    "# Adding cut-off for padj < 0.05\n",
    "sign_highex_res_Gast_vs_Met <- highex_res_Gast_vs_Met_ordered_decreasing[highex_res_Gast_vs_Met_ordered_decreasing$padj <= 0.05, ]\n",
    "\n",
    "#write.csv(sign_highex_res_Gast_vs_Met, \"../DESeq-Sofia/significant_DEseq_results_Gast_vs_Met.csv\", row.names = TRUE)\n",
    "# Display the significant results\n",
    "sign_highex_res_Gast_vs_Met\n"
   ]
  },
  {
   "cell_type": "code",
   "execution_count": 20,
   "id": "e004e6b7-77d6-4aa6-bb0d-5df37fcd136f",
   "metadata": {},
   "outputs": [
    {
     "name": "stdout",
     "output_type": "stream",
     "text": [
      "log2 fold change (MLE): library_name Gast vs EA \n",
      "Wald test p-value: library_name Gast vs EA \n",
      "DataFrame with 0 rows and 6 columns\n"
     ]
    }
   ],
   "source": [
    "%%R\n",
    "#Now compare the first cancer stage to the second to last (Gast vs EA)\n",
    "\n",
    "highex_res_Gast_vs_EA <- results(highex_dds, contrast = c(\"library_name\", \"Gast\", \"EA\"))\n",
    "clean_res_Gast_vs_EA <- highex_res_Gast_vs_EA[!is.na(highex_res_Gast_vs_EA$padj), ]\n",
    "\n",
    "# Ordering by adjusted p-value (padj)\n",
    "highex_res_Gast_vs_EA_ordered <- order(clean_res_Gast_vs_EA$padj, decreasing = FALSE)\n",
    "highex_res_Gast_vs_EA_ordered_decreasing <- clean_res_Gast_vs_EA[highex_res_Gast_vs_EA_ordered, ]\n",
    "\n",
    "# Adding cut-off for padj < 0.05\n",
    "sign_highex_res_Gast_vs_EA <- highex_res_Gast_vs_EA_ordered_decreasing[highex_res_Gast_vs_EA_ordered_decreasing$padj <= 0.05, ]\n",
    "\n",
    "#write.csv(sign_highex_res_Gast_vs_Met, \"../DESeq-Sofia/significant_DEseq_results_Gast_vs_Met.csv\", row.names = TRUE)\n",
    "# Display the significant results\n",
    "sign_highex_res_Gast_vs_EA"
   ]
  },
  {
   "cell_type": "code",
   "execution_count": 21,
   "id": "ea29c1f3-c60a-4706-acbd-5c023cd72fd7",
   "metadata": {},
   "outputs": [
    {
     "name": "stdout",
     "output_type": "stream",
     "text": [
      "log2 fold change (MLE): library_name Gast vs EA \n",
      "Wald test p-value: library_name Gast vs EA \n",
      "DataFrame with 0 rows and 6 columns\n"
     ]
    }
   ],
   "source": [
    "%%R\n",
    "#Now compare the second cancer stage to the third\n",
    "\n",
    "highex_res_Atr_vs_EA <- results(highex_dds, contrast = c(\"library_name\", \"Gast\", \"EA\"))\n",
    "clean_res_Atr_vs_EA <- highex_res_Atr_vs_EA[!is.na(highex_res_Atr_vs_EA$padj), ]\n",
    "\n",
    "# Ordering by adjusted p-value (padj)\n",
    "highex_res_Atr_vs_EA_ordered <- order(clean_res_Atr_vs_EA$padj, decreasing = FALSE)\n",
    "highex_res_Atr_vs_EA_ordered_decreasing <- clean_res_Atr_vs_EA[highex_res_Atr_vs_EA_ordered, ]\n",
    "\n",
    "# Adding cut-off for padj < 0.05\n",
    "sign_highex_res_Atr_vs_EA <- highex_res_Atr_vs_EA_ordered_decreasing[highex_res_Atr_vs_EA_ordered_decreasing$padj <= 0.05, ]\n",
    "\n",
    "#write.csv(sign_highex_res_Atr_vs_Met, \"../DESeq-Sofia/significant_DEseq_results_Atr_vs_Met.csv\", row.names = TRUE)\n",
    "# Display the significant results\n",
    "sign_highex_res_Atr_vs_EA\n"
   ]
  },
  {
   "cell_type": "code",
   "execution_count": 22,
   "id": "a07c5212-9807-4b88-bd80-db862b582968",
   "metadata": {},
   "outputs": [
    {
     "name": "stdout",
     "output_type": "stream",
     "text": [
      "log2 fold change (MLE): library_name Gast vs EA \n",
      "Wald test p-value: library_name Gast vs EA \n",
      "DataFrame with 802 rows and 6 columns\n",
      "           baseMean log2FoldChange     lfcSE         stat    pvalue      padj\n",
      "          <numeric>      <numeric> <numeric>    <numeric> <numeric> <numeric>\n",
      "HP_0573    1.096160     0.68245886  1.553321   0.43935456  0.660405         1\n",
      "HP_0020    1.522021    -0.00877844  1.193645  -0.00735432  0.994132         1\n",
      "HP_1325    3.476098     0.77430501  0.893641   0.86646114  0.386237         1\n",
      "HP_0038    0.260248     1.26206970  4.133582   0.30532107  0.760122         1\n",
      "HP_0493    0.793846    -0.88750359  1.873235  -0.47378120  0.635656         1\n",
      "...             ...            ...       ...          ...       ...       ...\n",
      "HP_t17  1.16676e-01    0.00000e+00  4.696727  0.00000e+00  1.000000         1\n",
      "HP_r04  3.33055e+03    7.03525e-17  0.138376  5.08416e-16  1.000000         1\n",
      "HP_t32  4.31965e-01   -9.78716e-01  2.387532 -4.09928e-01  0.681859         1\n",
      "HP_t08  3.41687e-02    1.42940e+00  4.685785  3.05051e-01  0.760327         1\n",
      "HP_t12  2.54863e-02   -5.50240e-01  4.662638 -1.18011e-01  0.906059         1\n"
     ]
    }
   ],
   "source": [
    "%%R\n",
    "highex_res_Atr_vs_EA_ordered_decreasing"
   ]
  },
  {
   "cell_type": "code",
   "execution_count": null,
   "id": "ffc4631f-2518-4914-ba2e-3355e2dc6024",
   "metadata": {},
   "outputs": [],
   "source": [
    "#Look into what genes are the most expressed "
   ]
  }
 ],
 "metadata": {
  "kernelspec": {
   "display_name": "Python 3",
   "language": "python",
   "name": "python3"
  },
  "language_info": {
   "codemirror_mode": {
    "name": "ipython",
    "version": 3
   },
   "file_extension": ".py",
   "mimetype": "text/x-python",
   "name": "python",
   "nbconvert_exporter": "python",
   "pygments_lexer": "ipython3",
   "version": "3.9.18"
  }
 },
 "nbformat": 4,
 "nbformat_minor": 5
}
